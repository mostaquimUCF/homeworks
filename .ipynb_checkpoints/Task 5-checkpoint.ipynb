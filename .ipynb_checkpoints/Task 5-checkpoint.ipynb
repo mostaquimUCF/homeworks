{
 "cells": [
  {
   "cell_type": "code",
   "execution_count": 43,
   "id": "1f524e6c",
   "metadata": {
    "scrolled": true
   },
   "outputs": [],
   "source": [
    "import pandas as pd\n",
    "import numpy as np\n",
    "import matplotlib.pyplot as plt\n",
    "%matplotlib inline\n",
    "\n",
    "df = pd.read_csv('hw_data.csv')\n"
   ]
  },
  {
   "cell_type": "code",
   "execution_count": 19,
   "id": "af3b822d",
   "metadata": {},
   "outputs": [],
   "source": [
    "from scipy.stats import entropy"
   ]
  },
  {
   "cell_type": "code",
   "execution_count": 64,
   "id": "764939cb",
   "metadata": {},
   "outputs": [
    {
     "data": {
      "text/plain": [
       "0.9182958340544894"
      ]
     },
     "execution_count": 64,
     "metadata": {},
     "output_type": "execute_result"
    }
   ],
   "source": [
    "entropy([4,2],base=2)"
   ]
  },
  {
   "cell_type": "code",
   "execution_count": 69,
   "id": "2d1eab57",
   "metadata": {},
   "outputs": [
    {
     "name": "stdout",
     "output_type": "stream",
     "text": [
      "[4, 4]\n",
      "0.9182958340544894 1.0\n"
     ]
    }
   ],
   "source": [
    "\n",
    "get_entropy(df,'Early')"
   ]
  },
  {
   "cell_type": "code",
   "execution_count": 114,
   "id": "b45fb3cb",
   "metadata": {},
   "outputs": [
    {
     "data": {
      "text/html": [
       "<div>\n",
       "<style scoped>\n",
       "    .dataframe tbody tr th:only-of-type {\n",
       "        vertical-align: middle;\n",
       "    }\n",
       "\n",
       "    .dataframe tbody tr th {\n",
       "        vertical-align: top;\n",
       "    }\n",
       "\n",
       "    .dataframe thead th {\n",
       "        text-align: right;\n",
       "    }\n",
       "</style>\n",
       "<table border=\"1\" class=\"dataframe\">\n",
       "  <thead>\n",
       "    <tr style=\"text-align: right;\">\n",
       "      <th></th>\n",
       "      <th>Early</th>\n",
       "      <th>Finished hmk</th>\n",
       "      <th>Senior</th>\n",
       "      <th>Likes Coffee</th>\n",
       "      <th>Liked The Last Jedi</th>\n",
       "      <th>A</th>\n",
       "    </tr>\n",
       "  </thead>\n",
       "  <tbody>\n",
       "    <tr>\n",
       "      <th>0</th>\n",
       "      <td>1</td>\n",
       "      <td>1</td>\n",
       "      <td>0</td>\n",
       "      <td>0</td>\n",
       "      <td>1</td>\n",
       "      <td>1</td>\n",
       "    </tr>\n",
       "    <tr>\n",
       "      <th>1</th>\n",
       "      <td>1</td>\n",
       "      <td>1</td>\n",
       "      <td>1</td>\n",
       "      <td>0</td>\n",
       "      <td>1</td>\n",
       "      <td>1</td>\n",
       "    </tr>\n",
       "    <tr>\n",
       "      <th>2</th>\n",
       "      <td>0</td>\n",
       "      <td>0</td>\n",
       "      <td>1</td>\n",
       "      <td>0</td>\n",
       "      <td>0</td>\n",
       "      <td>0</td>\n",
       "    </tr>\n",
       "    <tr>\n",
       "      <th>3</th>\n",
       "      <td>0</td>\n",
       "      <td>1</td>\n",
       "      <td>1</td>\n",
       "      <td>0</td>\n",
       "      <td>1</td>\n",
       "      <td>0</td>\n",
       "    </tr>\n",
       "    <tr>\n",
       "      <th>4</th>\n",
       "      <td>0</td>\n",
       "      <td>1</td>\n",
       "      <td>1</td>\n",
       "      <td>0</td>\n",
       "      <td>0</td>\n",
       "      <td>1</td>\n",
       "    </tr>\n",
       "    <tr>\n",
       "      <th>5</th>\n",
       "      <td>0</td>\n",
       "      <td>0</td>\n",
       "      <td>1</td>\n",
       "      <td>1</td>\n",
       "      <td>1</td>\n",
       "      <td>1</td>\n",
       "    </tr>\n",
       "    <tr>\n",
       "      <th>6</th>\n",
       "      <td>1</td>\n",
       "      <td>0</td>\n",
       "      <td>0</td>\n",
       "      <td>0</td>\n",
       "      <td>1</td>\n",
       "      <td>0</td>\n",
       "    </tr>\n",
       "    <tr>\n",
       "      <th>7</th>\n",
       "      <td>0</td>\n",
       "      <td>1</td>\n",
       "      <td>0</td>\n",
       "      <td>1</td>\n",
       "      <td>1</td>\n",
       "      <td>1</td>\n",
       "    </tr>\n",
       "    <tr>\n",
       "      <th>8</th>\n",
       "      <td>0</td>\n",
       "      <td>0</td>\n",
       "      <td>1</td>\n",
       "      <td>0</td>\n",
       "      <td>1</td>\n",
       "      <td>1</td>\n",
       "    </tr>\n",
       "    <tr>\n",
       "      <th>9</th>\n",
       "      <td>1</td>\n",
       "      <td>0</td>\n",
       "      <td>0</td>\n",
       "      <td>0</td>\n",
       "      <td>0</td>\n",
       "      <td>0</td>\n",
       "    </tr>\n",
       "    <tr>\n",
       "      <th>10</th>\n",
       "      <td>1</td>\n",
       "      <td>1</td>\n",
       "      <td>1</td>\n",
       "      <td>0</td>\n",
       "      <td>0</td>\n",
       "      <td>1</td>\n",
       "    </tr>\n",
       "    <tr>\n",
       "      <th>11</th>\n",
       "      <td>0</td>\n",
       "      <td>1</td>\n",
       "      <td>1</td>\n",
       "      <td>1</td>\n",
       "      <td>1</td>\n",
       "      <td>0</td>\n",
       "    </tr>\n",
       "    <tr>\n",
       "      <th>12</th>\n",
       "      <td>0</td>\n",
       "      <td>0</td>\n",
       "      <td>0</td>\n",
       "      <td>0</td>\n",
       "      <td>1</td>\n",
       "      <td>0</td>\n",
       "    </tr>\n",
       "    <tr>\n",
       "      <th>13</th>\n",
       "      <td>1</td>\n",
       "      <td>0</td>\n",
       "      <td>0</td>\n",
       "      <td>1</td>\n",
       "      <td>0</td>\n",
       "      <td>1</td>\n",
       "    </tr>\n",
       "  </tbody>\n",
       "</table>\n",
       "</div>"
      ],
      "text/plain": [
       "    Early  Finished hmk  Senior  Likes Coffee  Liked The Last Jedi  A\n",
       "0       1             1       0             0                    1  1\n",
       "1       1             1       1             0                    1  1\n",
       "2       0             0       1             0                    0  0\n",
       "3       0             1       1             0                    1  0\n",
       "4       0             1       1             0                    0  1\n",
       "5       0             0       1             1                    1  1\n",
       "6       1             0       0             0                    1  0\n",
       "7       0             1       0             1                    1  1\n",
       "8       0             0       1             0                    1  1\n",
       "9       1             0       0             0                    0  0\n",
       "10      1             1       1             0                    0  1\n",
       "11      0             1       1             1                    1  0\n",
       "12      0             0       0             0                    1  0\n",
       "13      1             0       0             1                    0  1"
      ]
     },
     "execution_count": 114,
     "metadata": {},
     "output_type": "execute_result"
    }
   ],
   "source": [
    "def get_entropy(n):\n",
    "    c0 = n.loc[n['A'] == 0]['A'].count()\n",
    "    c1 = n.loc[n['A'] == 1]['A'].count()\n",
    "    return entropy([c0,c1],base=2)\n",
    "\n",
    "def classify_data(d, c):\n",
    "    n1 = d.loc[d[c] == 0]\n",
    "    ent_n1 = get_entropy(n1)\n",
    "    \n",
    "    n2 = d.loc[d[c] == 1]\n",
    "    ent_n2 = get_entropy(n2)\n",
    "    total_entropy = ent_n1 * n1['A'].count() /d['A'].count() + ent_n2 * n2['A'].count() /d['A'].count()\n",
    "    return total_entropy\n",
    "    \n",
    "\n",
    "\n",
    "classify_data(df, 'Liked The Last Jedi')\n",
    "\n",
    "df"
   ]
  },
  {
   "cell_type": "code",
   "execution_count": 119,
   "id": "c944d14e",
   "metadata": {},
   "outputs": [
    {
     "data": {
      "text/plain": [
       "('Finished hmk', 0.0013397424044411244, 0.9838883936298104)"
      ]
     },
     "execution_count": 119,
     "metadata": {},
     "output_type": "execute_result"
    }
   ],
   "source": [
    "def select_node(d):\n",
    "    gain_max = 0\n",
    "    selected = ''\n",
    "    base_entropy = get_entropy(d)\n",
    "    for c in d.columns:\n",
    "        if c != 'A':\n",
    "            ent = classify_data(d, c)\n",
    "\n",
    "            gain = base_entropy - ent\n",
    "\n",
    "            if gain > gain_max:\n",
    "                gain_max = gain\n",
    "\n",
    "                selected = c\n",
    "    return selected, gain, ent\n",
    "\n",
    "# for depth 1 we select one node\n"
   ]
  },
  {
   "cell_type": "code",
   "execution_count": 120,
   "id": "f9e7a9df",
   "metadata": {},
   "outputs": [
    {
     "data": {
      "text/plain": [
       "1.0"
      ]
     },
     "execution_count": 120,
     "metadata": {},
     "output_type": "execute_result"
    }
   ],
   "source": [
    "entropy([4,4],base=2)"
   ]
  },
  {
   "cell_type": "code",
   "execution_count": 179,
   "id": "a4e655da",
   "metadata": {},
   "outputs": [
    {
     "name": "stderr",
     "output_type": "stream",
     "text": [
      "C:\\Users\\syedm\\.conda\\envs\\opencv\\lib\\site-packages\\scipy\\stats\\_entropy.py:72: RuntimeWarning: invalid value encountered in true_divide\n",
      "  pk = 1.0*pk / np.sum(pk, axis=axis, keepdims=True)\n"
     ]
    },
    {
     "data": {
      "text/plain": [
       "('Early', 'Likes Coffee')"
      ]
     },
     "execution_count": 179,
     "metadata": {},
     "output_type": "execute_result"
    }
   ],
   "source": [
    "def second_node(d):\n",
    "    c, gain, ent = select_node(d)\n",
    "    n1 = d.loc[d[c]==1]\n",
    "    n1_c,_,ent_n1 = select_node(n1)\n",
    "    n2 = d.loc[d[c]==0]\n",
    "    n2_c,_,ent_n2 = select_node(n2)\n",
    "    total_entropy = ent_n1 * n1['A'].count() /d['A'].count() + ent_n2 * n2['A'].count() /d['A'].count()\n",
    "    \n",
    "    \n",
    "    gain = ent- total_entropy\n",
    "    \n",
    "    \n",
    "    return n1_c, n2_c\n",
    "    \n",
    "    \n",
    "second_node(df)    "
   ]
  },
  {
   "cell_type": "code",
   "execution_count": 218,
   "id": "2781df03",
   "metadata": {},
   "outputs": [
    {
     "name": "stderr",
     "output_type": "stream",
     "text": [
      "C:\\Users\\syedm\\.conda\\envs\\opencv\\lib\\site-packages\\scipy\\stats\\_entropy.py:72: RuntimeWarning: invalid value encountered in true_divide\n",
      "  pk = 1.0*pk / np.sum(pk, axis=axis, keepdims=True)\n",
      "C:\\Users\\syedm\\.conda\\envs\\opencv\\lib\\site-packages\\scipy\\stats\\_entropy.py:72: RuntimeWarning: invalid value encountered in true_divide\n",
      "  pk = 1.0*pk / np.sum(pk, axis=axis, keepdims=True)\n",
      "C:\\Users\\syedm\\.conda\\envs\\opencv\\lib\\site-packages\\scipy\\stats\\_entropy.py:72: RuntimeWarning: invalid value encountered in true_divide\n",
      "  pk = 1.0*pk / np.sum(pk, axis=axis, keepdims=True)\n",
      "C:\\Users\\syedm\\.conda\\envs\\opencv\\lib\\site-packages\\scipy\\stats\\_entropy.py:72: RuntimeWarning: invalid value encountered in true_divide\n",
      "  pk = 1.0*pk / np.sum(pk, axis=axis, keepdims=True)\n",
      "C:\\Users\\syedm\\.conda\\envs\\opencv\\lib\\site-packages\\scipy\\stats\\_entropy.py:72: RuntimeWarning: invalid value encountered in true_divide\n",
      "  pk = 1.0*pk / np.sum(pk, axis=axis, keepdims=True)\n",
      "C:\\Users\\syedm\\.conda\\envs\\opencv\\lib\\site-packages\\scipy\\stats\\_entropy.py:72: RuntimeWarning: invalid value encountered in true_divide\n",
      "  pk = 1.0*pk / np.sum(pk, axis=axis, keepdims=True)\n",
      "C:\\Users\\syedm\\.conda\\envs\\opencv\\lib\\site-packages\\scipy\\stats\\_entropy.py:72: RuntimeWarning: invalid value encountered in true_divide\n",
      "  pk = 1.0*pk / np.sum(pk, axis=axis, keepdims=True)\n",
      "C:\\Users\\syedm\\.conda\\envs\\opencv\\lib\\site-packages\\scipy\\stats\\_entropy.py:72: RuntimeWarning: invalid value encountered in true_divide\n",
      "  pk = 1.0*pk / np.sum(pk, axis=axis, keepdims=True)\n",
      "C:\\Users\\syedm\\.conda\\envs\\opencv\\lib\\site-packages\\scipy\\stats\\_entropy.py:72: RuntimeWarning: invalid value encountered in true_divide\n",
      "  pk = 1.0*pk / np.sum(pk, axis=axis, keepdims=True)\n",
      "C:\\Users\\syedm\\.conda\\envs\\opencv\\lib\\site-packages\\scipy\\stats\\_entropy.py:72: RuntimeWarning: invalid value encountered in true_divide\n",
      "  pk = 1.0*pk / np.sum(pk, axis=axis, keepdims=True)\n",
      "C:\\Users\\syedm\\.conda\\envs\\opencv\\lib\\site-packages\\scipy\\stats\\_entropy.py:72: RuntimeWarning: invalid value encountered in true_divide\n",
      "  pk = 1.0*pk / np.sum(pk, axis=axis, keepdims=True)\n",
      "C:\\Users\\syedm\\.conda\\envs\\opencv\\lib\\site-packages\\scipy\\stats\\_entropy.py:72: RuntimeWarning: invalid value encountered in true_divide\n",
      "  pk = 1.0*pk / np.sum(pk, axis=axis, keepdims=True)\n",
      "C:\\Users\\syedm\\.conda\\envs\\opencv\\lib\\site-packages\\scipy\\stats\\_entropy.py:72: RuntimeWarning: invalid value encountered in true_divide\n",
      "  pk = 1.0*pk / np.sum(pk, axis=axis, keepdims=True)\n",
      "C:\\Users\\syedm\\.conda\\envs\\opencv\\lib\\site-packages\\scipy\\stats\\_entropy.py:72: RuntimeWarning: invalid value encountered in true_divide\n",
      "  pk = 1.0*pk / np.sum(pk, axis=axis, keepdims=True)\n"
     ]
    }
   ],
   "source": [
    "def decision_tree(d,max_depth=1):\n",
    "    error = 0\n",
    "    if max_depth == 1:\n",
    "        for i,val in df.iterrows():\n",
    "            selected, gain, ent = select_node(d)\n",
    "            cls = d.loc[d[selected] == val[selected]]['A'].median() \n",
    "            if cls != val['A']:\n",
    "                error += 1\n",
    "    else:\n",
    "        for i,val in df.iterrows():\n",
    "            c, gain, ent = select_node(d)\n",
    "            n1_c, n2_c = second_node(d)   \n",
    "            if val[c] == 0:\n",
    "                ds = d.loc[d[c] == 0]\n",
    "                cls = ds.loc[ ds[n2_c] == val[n2_c] ]['A'].median()\n",
    "                if cls != val['A']:\n",
    "                    error += 1\n",
    "            else:\n",
    "                ds = d.loc[d[c] == 1]\n",
    "                \n",
    "#                 cls = ds.loc[ds[n1_c] == val[n1_c]]['A'].median()\n",
    "                cls = ds.loc[ ds[n1_c] == val[n1_c] ]['A'].median()\n",
    "                if int(cls) != val['A']:\n",
    "                    error += 1\n",
    "            \n",
    "                                              \n",
    "    return error/len(d)\n",
    "    \n",
    "error_max_depth_1 = decision_tree(df,1)\n",
    "error_max_depth_2 = decision_tree(df,2)"
   ]
  },
  {
   "cell_type": "code",
   "execution_count": 219,
   "id": "f1eff324",
   "metadata": {},
   "outputs": [
    {
     "name": "stdout",
     "output_type": "stream",
     "text": [
      "Error MAX Depth 1 0.35714285714285715\n",
      "Error MAX Depth 2 0.21428571428571427\n"
     ]
    }
   ],
   "source": [
    "print(\"Error MAX Depth 1\", error_max_depth_1)\n",
    "print(\"Error MAX Depth 2\", error_max_depth_2)"
   ]
  },
  {
   "cell_type": "code",
   "execution_count": null,
   "id": "b1910fc7",
   "metadata": {},
   "outputs": [],
   "source": []
  }
 ],
 "metadata": {
  "kernelspec": {
   "display_name": "Python 3 (ipykernel)",
   "language": "python",
   "name": "python3"
  },
  "language_info": {
   "codemirror_mode": {
    "name": "ipython",
    "version": 3
   },
   "file_extension": ".py",
   "mimetype": "text/x-python",
   "name": "python",
   "nbconvert_exporter": "python",
   "pygments_lexer": "ipython3",
   "version": "3.7.11"
  }
 },
 "nbformat": 4,
 "nbformat_minor": 5
}
